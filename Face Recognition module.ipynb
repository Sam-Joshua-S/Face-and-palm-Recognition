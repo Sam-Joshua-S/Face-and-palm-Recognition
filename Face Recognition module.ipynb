{
  "cells": [
    {
      "cell_type": "markdown",
      "metadata": {
        "id": "view-in-github",
        "colab_type": "text"
      },
      "source": [
        "<a href=\"https://colab.research.google.com/github/Sam-Joshua-S/Face-and-palm-Recognition/blob/main/Face%20Recognition%20module.ipynb\" target=\"_parent\"><img src=\"https://colab.research.google.com/assets/colab-badge.svg\" alt=\"Open In Colab\"/></a>"
      ]
    },
    {
      "cell_type": "code",
      "execution_count": 2,
      "metadata": {
        "colab": {
          "base_uri": "https://localhost:8080/"
        },
        "id": "lF-BS7OqqvXe",
        "outputId": "c272ed36-3388-424a-dc65-1ab9123c286a"
      },
      "outputs": [
        {
          "output_type": "stream",
          "name": "stdout",
          "text": [
            "Looking in indexes: https://pypi.org/simple, https://us-python.pkg.dev/colab-wheels/public/simple/\n",
            "Collecting mediapipe\n",
            "  Downloading mediapipe-0.8.11-cp37-cp37m-manylinux_2_17_x86_64.manylinux2014_x86_64.whl (31.5 MB)\n",
            "\u001b[K     |████████████████████████████████| 31.5 MB 67.1 MB/s \n",
            "\u001b[?25hRequirement already satisfied: matplotlib in /usr/local/lib/python3.7/dist-packages (from mediapipe) (3.2.2)\n",
            "Requirement already satisfied: attrs>=19.1.0 in /usr/local/lib/python3.7/dist-packages (from mediapipe) (22.1.0)\n",
            "Requirement already satisfied: numpy in /usr/local/lib/python3.7/dist-packages (from mediapipe) (1.21.6)\n",
            "Requirement already satisfied: protobuf<4,>=3.11 in /usr/local/lib/python3.7/dist-packages (from mediapipe) (3.17.3)\n",
            "Requirement already satisfied: opencv-contrib-python in /usr/local/lib/python3.7/dist-packages (from mediapipe) (4.6.0.66)\n",
            "Requirement already satisfied: absl-py in /usr/local/lib/python3.7/dist-packages (from mediapipe) (1.2.0)\n",
            "Requirement already satisfied: six>=1.9 in /usr/local/lib/python3.7/dist-packages (from protobuf<4,>=3.11->mediapipe) (1.15.0)\n",
            "Requirement already satisfied: cycler>=0.10 in /usr/local/lib/python3.7/dist-packages (from matplotlib->mediapipe) (0.11.0)\n",
            "Requirement already satisfied: pyparsing!=2.0.4,!=2.1.2,!=2.1.6,>=2.0.1 in /usr/local/lib/python3.7/dist-packages (from matplotlib->mediapipe) (3.0.9)\n",
            "Requirement already satisfied: kiwisolver>=1.0.1 in /usr/local/lib/python3.7/dist-packages (from matplotlib->mediapipe) (1.4.4)\n",
            "Requirement already satisfied: python-dateutil>=2.1 in /usr/local/lib/python3.7/dist-packages (from matplotlib->mediapipe) (2.8.2)\n",
            "Requirement already satisfied: typing-extensions in /usr/local/lib/python3.7/dist-packages (from kiwisolver>=1.0.1->matplotlib->mediapipe) (4.1.1)\n",
            "Installing collected packages: mediapipe\n",
            "Successfully installed mediapipe-0.8.11\n"
          ]
        }
      ],
      "source": [
        "!pip install mediapipe"
      ]
    },
    {
      "cell_type": "code",
      "execution_count": 3,
      "metadata": {
        "id": "bBQAu5JToeqi"
      },
      "outputs": [],
      "source": [
        "from google.colab.patches import cv2_imshow\n",
        "import mediapipe as mp\n",
        "import matplotlib.pyplot as plt"
      ]
    },
    {
      "cell_type": "code",
      "execution_count": 22,
      "metadata": {
        "colab": {
          "base_uri": "https://localhost:8080/",
          "height": 87
        },
        "id": "qMZlfOYWl9xE",
        "outputId": "be8006b6-cd07-470e-affd-cb21ea433a8f"
      },
      "outputs": [
        {
          "output_type": "stream",
          "name": "stdout",
          "text": [
            "Checking\n",
            "____Second______\n",
            "_____LASTTTT_________\n"
          ]
        },
        {
          "output_type": "display_data",
          "data": {
            "text/plain": [
              "<Figure size 360x360 with 0 Axes>"
            ]
          },
          "metadata": {}
        }
      ],
      "source": [
        "import cv2\n",
        "import numpy as np\n",
        "cap = cv2.VideoCapture('https://wallpapercave.com/wp/wp4623566.png')\n",
        "cap2 = cv2.VideoCapture('https://media-exp1.licdn.com/dms/image/C4D03AQFsqUOWVq0y-A/profile-displayphoto-shrink_800_800/0/1662620155693?e=1669248000&v=beta&t=ZfrR0shmVM25UOmJZSdxfZZ6x3X918Kzw8EhoLwSWOY')\n",
        "\n",
        "mp_face_mesh = mp.solutions.face_mesh\n",
        "\n",
        "face_mesh_images = mp_face_mesh.FaceMesh(static_image_mode=True, max_num_faces=2,min_detection_confidence=0.5)\n",
        "\n",
        "mp_drawing = mp.solutions.drawing_utils\n",
        "\n",
        "mp_drawing_styles = mp.solutions.drawing_styles\n",
        "plt.figure(figsize = [5,5])\n",
        "if (cap.isOpened()== False):\n",
        "  print(\"Error opening video stream or file\")\n",
        "k=1\n",
        "land_info1=[]\n",
        "land_info2=[]\n",
        "while(k):\n",
        "#while(cap.isOpened()):\n",
        "  ret, frame = cap.read()\n",
        "  ret2, frame2 = cap2.read()\n",
        "\n",
        "  k=0\n",
        "  if ret == True:\n",
        "    face_mesh_results = face_mesh_images.process(frame)\n",
        "    if face_mesh_results.multi_face_landmarks:\n",
        "      for face_landmarks in face_mesh_results.multi_face_landmarks:\n",
        "        mp_drawing.draw_landmarks(image=frame,landmark_list=face_landmarks,connections=mp_face_mesh.FACEMESH_TESSELATION,landmark_drawing_spec=None, connection_drawing_spec=mp_drawing_styles.get_default_face_mesh_tesselation_style())\n",
        "        mp_drawing.draw_landmarks(image=frame, landmark_list=face_landmarks,connections=mp_face_mesh.FACEMESH_CONTOURS,landmark_drawing_spec=None, connection_drawing_spec=mp_drawing_styles.get_default_face_mesh_contours_style())\n",
        "        #cv2_imshow(frame)\n",
        "        #print(face_landmarks.landmark.x)\n",
        "        print(\"Checking\")\n",
        "        #for im in face_landmarks.landmark:\n",
        "          #print(im)\n",
        "          #print(im.x,im.y)\n",
        "          #land_info1.append(im.x)\n",
        "          #land_info1.append(im.y)\n",
        "\n",
        "    print(\"____Second______\")\n",
        "    face_mesh_results = face_mesh_images.process(frame2)\n",
        "    if face_mesh_results.multi_face_landmarks:\n",
        "      for face_landmarks in face_mesh_results.multi_face_landmarks:\n",
        "        mp_drawing.draw_landmarks(image=frame2,landmark_list=face_landmarks,connections=mp_face_mesh.FACEMESH_TESSELATION,landmark_drawing_spec=None, connection_drawing_spec=mp_drawing_styles.get_default_face_mesh_tesselation_style())        \n",
        "        mp_drawing.draw_landmarks(image=frame2, landmark_list=face_landmarks,connections=mp_face_mesh.FACEMESH_CONTOURS,landmark_drawing_spec=None, connection_drawing_spec=mp_drawing_styles.get_default_face_mesh_contours_style())\n",
        "        #cv2_imshow(frame2)\n",
        "        #for im in face_landmarks.landmark:\n",
        "          #print(im.x,y)\n",
        "          #print(im.x,im.y)\n",
        "    print(\"_____LASTTTT_________\")\n",
        "\n",
        "    if cv2.waitKey(25) & 0xFF == ord('q'):\n",
        "      break\n",
        "  else:\n",
        "    break\n",
        "cap.release()\n",
        "cap2.release()\n",
        "\n",
        "cv2.destroyAllWindows()\n"
      ]
    },
    {
      "cell_type": "code",
      "source": [],
      "metadata": {
        "id": "FDlaDBMCSRM6"
      },
      "execution_count": null,
      "outputs": []
    }
  ],
  "metadata": {
    "colab": {
      "provenance": [],
      "authorship_tag": "ABX9TyNayb2tkLNCuNAYgBY2r/oE",
      "include_colab_link": true
    },
    "kernelspec": {
      "display_name": "Python 3",
      "name": "python3"
    },
    "language_info": {
      "name": "python"
    }
  },
  "nbformat": 4,
  "nbformat_minor": 0
}