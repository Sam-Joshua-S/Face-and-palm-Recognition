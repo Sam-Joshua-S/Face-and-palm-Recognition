{
 "cells": [
  {
   "cell_type": "code",
   "execution_count": 3,
   "metadata": {
    "colab": {
     "background_save": true
    },
    "id": "pIBSrwZQ2ua7"
   },
   "outputs": [],
   "source": [
    "import face_recognition\n",
    "import cv2\n",
    "import time"
   ]
  },
  {
   "cell_type": "code",
   "execution_count": 4,
   "metadata": {
    "colab": {
     "background_save": true
    },
    "id": "BIx5mhQn1wF8"
   },
   "outputs": [],
   "source": [
    "def face_recognizer(img1,img2):\n",
    "  img1= cv2.imread(img1)\n",
    "  rgb_img1=cv2.cvtColor(img1, cv2.COLOR_BGR2RGB)\n",
    "  img_encoding1=face_recognition.face_encodings(rgb_img1)[0]\n",
    "  #img2= cv2.imread(img2)\n",
    "  rgb_img2=cv2.cvtColor(img2, cv2.COLOR_BGR2RGB)\n",
    "  img_encoding2=face_recognition.face_encodings(rgb_img2)[0]\n",
    "  result= face_recognition.compare_faces([img_encoding1], img_encoding2)\n",
    "  return result[0]"
   ]
  },
  {
   "cell_type": "code",
   "execution_count": 5,
   "metadata": {
    "id": "l4nYiSiel3Xy"
   },
   "outputs": [],
   "source": [
    "def face_recog():\n",
    "    vid = cv2.VideoCapture(0)\n",
    "    flag=False\n",
    "    timeout = time.time() + 5\n",
    "    while True:\n",
    "        test = 0\n",
    "        if test == 5 or time.time() > timeout:\n",
    "            print(\"Not Verified\")\n",
    "            break\n",
    "        test = test - 1\n",
    "        ret, frame = vid.read()\n",
    "        cv2.imshow(\"Video\",frame)\n",
    "        try:\n",
    "            if(face_recognizer(\"data/PHOTO.jpg\",frame)):\n",
    "                print(\"Verified\")\n",
    "                flag=True\n",
    "                break\n",
    "        except:\n",
    "            print\n",
    "    vid.release()\n",
    "    cv2.destroyAllWindows()\n",
    "    print(flag)"
   ]
  },
  {
   "cell_type": "code",
   "execution_count": 6,
   "metadata": {},
   "outputs": [
    {
     "name": "stdout",
     "output_type": "stream",
     "text": [
      "Verified\n",
      "True\n"
     ]
    }
   ],
   "source": [
    "if \"__main__\"==__name__:\n",
    "    face_recog()\n",
    "    "
   ]
  },
  {
   "cell_type": "code",
   "execution_count": null,
   "metadata": {},
   "outputs": [],
   "source": []
  }
 ],
 "metadata": {
  "accelerator": "GPU",
  "colab": {
   "provenance": []
  },
  "kernelspec": {
   "display_name": "liveness_detect_env",
   "language": "python",
   "name": "python3"
  },
  "language_info": {
   "codemirror_mode": {
    "name": "ipython",
    "version": 3
   },
   "file_extension": ".py",
   "mimetype": "text/x-python",
   "name": "python",
   "nbconvert_exporter": "python",
   "pygments_lexer": "ipython3",
   "version": "3.7.13"
  },
  "vscode": {
   "interpreter": {
    "hash": "978d5080ac782bd86da9437e1b0e73e5583e659440966386c373f47b8e69bfe4"
   }
  }
 },
 "nbformat": 4,
 "nbformat_minor": 1
}
